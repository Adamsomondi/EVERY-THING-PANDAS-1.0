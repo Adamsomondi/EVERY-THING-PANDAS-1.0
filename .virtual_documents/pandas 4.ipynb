


import pandas as pd
inspections = pd.read_csv("chicago_food_inspections.csv")
inspections


#Selection

inspections.iloc[1200:1300]


#Removing whitespace 

inspections["Name"].str.lstrip().head()


#Removing whitespace

inspections["Name"].str.rstrip().head()


#Removing whitespace

inspections["Name"].str.strip().head()


#Changing to LowerCase

inspections["Name"].str.lower().head()


#Changing the to  Upper case for the first letter

inspections["Name"].str.capitalize().head()
