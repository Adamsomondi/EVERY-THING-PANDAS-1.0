


#DataFrame are type objects.
#DataFrame are 2Dimensional-Just a Collection of many Series.

import pandas as pd

df=pd.DataFrame()

print(type(df))


#Creating Data Frame from Python Dictionary Data Structure

import pandas as pd
city_data = {
    "City": ["New York City", "Paris", "Barcelona", "Rome"],
    
    "Country": ["United States", "France", "Spain", "Italy"],
    
    "Population": pd.Series([8600000, 2141000, 5515000, 2873000])
}

cities = pd.DataFrame(city_data)
cities



# transposing 

cities.transpose()



#Creating an empty Dataframe

row_labels = ["Morning", "Afternoon", "Evening"]

column_labels = (
    "Monday", "Tuesday", "Wednesday", "Thursday", "Friday")
pd.DataFrame(
 
    index = row_labels,
    columns = column_labels,
)
