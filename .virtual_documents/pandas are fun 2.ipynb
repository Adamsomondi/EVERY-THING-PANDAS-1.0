


#Load data Sets
import pandas as pd
pokemon=pd.read_csv("pokemon.csv")
pokemon





days_of_war=pd.read_csv("revolutionary_war.csv")
days_of_war.head()


#use col allows you to pick the column you want to use

days_of_war = pd.read_csv("revolutionary_war.csv", usecols = ["Start Date"], parse_dates = ["Start Date"],)
days_of_war.head()
