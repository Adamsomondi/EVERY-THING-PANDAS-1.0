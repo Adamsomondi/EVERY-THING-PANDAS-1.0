


import pandas as pd
employees=pd.read_csv("employees.csv")
employee=pd.DataFrame(employees)
print(employee)


#Overview of the data Sets

employees.info()


#Describe the Dataset

employee.describe()



# How to Convert Data Types with the astype Method
# Optimizing the data Usage.

employees["Mgmt"] = employees["Mgmt"].astype(bool)
employees



#check the amount of memory Saved

employees.info()



#Filling the NAN values with 2342

employees["Salary"].fillna(2342).astype(float).tail()


#Checks for missing (NaN) values in the "Team" column
employees["Team"].isnull().head()


#Checks for missing (NaN) values in the "Start Date" column

employees["Start Date"].isnull().head()


#removes missing (NaN) values in every row

employees.dropna()


# Dropping Duplicates

employees.drop_duplicates()


# Dropping Duplicates per column

employees.drop_duplicates(subset = ["Team"])





netflix=pd.read_csv("netflix.csv")
pd.DataFrame(netflix)
netflix.info()


#Selection and Assignment
directed_by_robert_rodriguez = ( netflix["director"] == "Robert Rodriguez")
is_movie = netflix["type"] == "Movie"

netflix[directed_by_robert_rodriguez & is_movie]


added_on_july_31 = netflix["date_added"] == "2019-07-31"
directed_by_altman = netflix["director"] == "Robert Altman"
netflix[added_on_july_31 | directed_by_altman]


directors = ["Orson Welles", "Aditya Kripalani", "Sam Raimi"]
target_directors = netflix["director"].isin(directors)
netflix[target_directors]


netflix.dropna(subset = ["director"]).head()


netflix.drop_duplicates(subset = ["date_added"], keep = False)
