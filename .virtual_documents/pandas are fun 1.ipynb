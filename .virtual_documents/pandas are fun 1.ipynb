


#series are type objects.
#series are 1Dimensional.
import pandas as pd

pd.Series()


#bool data type in pandas

bools = [True, False, False,True]

pd.Series(bools)


#float data types in pandas

stock_prices = [985.32, 950.44]


pd.Series(data = stock_prices, dtype="float")


#int data types in pandas

lucky_numbers = [4, 8, 15, 16, 23, 42]

pd.Series(lucky_numbers)


#creating a list with np.nan-Means not a number

import numpy as np
temperatures = [94, 88, np.nan, 91]

pd.Series(data = temperatures)


#using dictionary object to create a series data structure

calorie_info = {
    "Cereal": 125,
    "Chocolate Bar": 406,
    "Ice Cream Sundae": 342,
}

diet = pd.Series(calorie_info)
diet


#using tuples to create series data structure

pd.Series(data = ("Red", "Green", "Blue"))


#using array to create series data structure

rgb_colors = [(120, 41, 26), (196, 165, 45)]
pd.Series(data = rgb_colors)


#using set to create series data structure
my_set = {"Ricky", "Bobby"}
pd.Series(list(my_set))





superheroes = [
    "Batman",
    "Superman",
    "Spider-Man",
    "Iron Man",
    "Captain America",
    "Wonder Woman"
]

strength_level= (100,120,90,95,110,120)

heroes=pd.Series(index = superheroes,data = strength_level)

heroes


# Display the first Rows

heroes.head(2)


# Display the last rows

heroes.tail(4)


#unique values

heroes.nunique()


#gets the mean
heroes.mean()


#identify the maximum Value
heroes.max()


#identify the minimum value
heroes.min()
